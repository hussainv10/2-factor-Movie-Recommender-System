{
 "cells": [
  {
   "cell_type": "code",
   "execution_count": 1,
   "metadata": {},
   "outputs": [],
   "source": [
    "import pandas as pd\n",
    "import numpy as np\n",
    "import os\n",
    "import re\n",
    "import sys\n",
    "import pickle\n",
    "from sklearn.feature_extraction.text import CountVectorizer\n",
    "from sklearn.linear_model import LogisticRegression\n",
    "from sklearn.metrics import accuracy_score\n",
    "from sklearn.model_selection import train_test_split\n",
    "import sys"
   ]
  },
  {
   "cell_type": "code",
   "execution_count": 2,
   "metadata": {},
   "outputs": [],
   "source": [
    "#Import comment files and store them in one dataframe\n",
    "df_train = pd.read_csv('../train_df_full.csv')\n",
    "df_test = pd.read_csv('../test_df_full.csv')\n",
    "df_full = pd.concat([df_train, df_test], axis=0)"
   ]
  },
  {
   "cell_type": "code",
   "execution_count": 3,
   "metadata": {},
   "outputs": [],
   "source": [
    "#Text Preprocessing Functions\n",
    "REPLACE_NO_SPACE = re.compile(\"(\\.)|(\\;)|(\\:)|(\\!)|(\\')|(\\?)|(\\,)|(\\\")|(\\()|(\\))|(\\[)|(\\])|(\\d+)\")\n",
    "REPLACE_WITH_SPACE = re.compile(\"(<br\\s*/><br\\s*/>)|(\\-)|(\\/)\")\n",
    "NO_SPACE = \"\"\n",
    "SPACE = \" \"\n",
    "\n",
    "def preprocess_reviews(reviews):\n",
    "    \n",
    "    reviews = [REPLACE_NO_SPACE.sub(NO_SPACE, line.lower()) for line in reviews]\n",
    "    reviews = [REPLACE_WITH_SPACE.sub(SPACE, line) for line in reviews]\n",
    "    \n",
    "    return reviews\n",
    "\n",
    "def preprocess_model_reviews(review):\n",
    "    \n",
    "    review = REPLACE_NO_SPACE.sub(NO_SPACE, review.lower())\n",
    "    review = REPLACE_WITH_SPACE.sub(SPACE, review)\n",
    "    \n",
    "    return review"
   ]
  },
  {
   "cell_type": "code",
   "execution_count": 4,
   "metadata": {},
   "outputs": [
    {
     "name": "stderr",
     "output_type": "stream",
     "text": [
      "/home/hussainv10/anaconda3/lib/python3.7/site-packages/sklearn/linear_model/logistic.py:432: FutureWarning: Default solver will be changed to 'lbfgs' in 0.22. Specify a solver to silence this warning.\n",
      "  FutureWarning)\n"
     ]
    },
    {
     "name": "stdout",
     "output_type": "stream",
     "text": [
      "Validation Accuracy of model is: 0.8868\n",
      "Test Accuracy of model is: 0.88128\n"
     ]
    }
   ],
   "source": [
    "#Build CountVectorizer and Train Logistic Regression Model\n",
    "reviews_train = list(df_train['content']) \n",
    "reviews_test = list(df_test['content'])\n",
    "    \n",
    "reviews_train_clean = preprocess_reviews(reviews_train)\n",
    "reviews_test_clean = preprocess_reviews(reviews_test)\n",
    "\n",
    "cv = CountVectorizer(binary=True)\n",
    "cv.fit(reviews_train_clean)\n",
    "\n",
    "X = cv.transform(reviews_train_clean)\n",
    "X_test = cv.transform(reviews_test_clean)\n",
    "\n",
    "target = [1 if i < 12500 else 0 for i in range(25000)]\n",
    "\n",
    "X_train, X_val, y_train, y_val = train_test_split(X, target, train_size = 0.80)\n",
    "    \n",
    "train_model = LogisticRegression(C=0.05)\n",
    "train_model.fit(X_train, y_train)\n",
    "print (\"Validation Accuracy of model is: %s\" % (accuracy_score(y_val, train_model.predict(X_val))))\n",
    "\n",
    "model = LogisticRegression(C=0.05)\n",
    "model.fit(X, target)\n",
    "print (\"Test Accuracy of model is: %s\" % accuracy_score(target, model.predict(X_test)))"
   ]
  },
  {
   "cell_type": "code",
   "execution_count": 5,
   "metadata": {},
   "outputs": [],
   "source": [
    "#Function to calculate sentiment score for a given movie from all its comments\n",
    "def get_sentiment_score(movie_id):\n",
    "    review_list = list(df_train.loc[df_train['movie_id']==str(movie_id), 'content'].values)\n",
    "    \n",
    "    review_list_clean = []\n",
    "    for review in review_list:\n",
    "        review_list_clean.append(preprocess_model_reviews(review))\n",
    "        \n",
    "    review_array = cv.transform(review_list_clean)\n",
    "    \n",
    "    predictions = model.predict(review_array)\n",
    "    \n",
    "    try:\n",
    "        sentiment_score = np.count_nonzero(predictions)/np.count_nonzero(predictions==0)\n",
    "    except:\n",
    "        print('There were no negative reviews, returning number of positive reviews!')\n",
    "        sentiment_score = np.count_nonzero(predictions)\n",
    "    \n",
    "    print('The Sentiment Score is: ', sentiment_score)\n",
    "    \n",
    "    return (movie_id, sentiment_score)"
   ]
  },
  {
   "cell_type": "code",
   "execution_count": 6,
   "metadata": {},
   "outputs": [],
   "source": [
    "#Reorder recommended movies by sentiment score\n",
    "def reorder_recommended_movies(recommended_movie_id_list):\n",
    "    sentiment_ranking_list = []\n",
    "    \n",
    "    for movie_id in recommended_movie_id_list:\n",
    "        sentiment_ranking_list.append(get_sentiment_score(movie_id))\n",
    "    \n",
    "    sentiment_ranking_list.sort(key = lambda x: x[1], reverse=True)\n",
    "    \n",
    "    return sentiment_ranking_list"
   ]
  },
  {
   "cell_type": "code",
   "execution_count": 7,
   "metadata": {},
   "outputs": [
    {
     "name": "stdout",
     "output_type": "stream",
     "text": [
      "The Sentiment Score is:  5.666666666666667\n",
      "There were no negative reviews, returning number of positive reviews!\n",
      "The Sentiment Score is:  3\n",
      "There were no negative reviews, returning number of positive reviews!\n",
      "The Sentiment Score is:  5\n",
      "There were no negative reviews, returning number of positive reviews!\n",
      "The Sentiment Score is:  9\n",
      "There were no negative reviews, returning number of positive reviews!\n",
      "The Sentiment Score is:  6\n"
     ]
    },
    {
     "data": {
      "text/plain": [
       "[('tt0074223', 9),\n",
       " ('tt0042042', 6),\n",
       " ('tt0100680', 5.666666666666667),\n",
       " ('tt0177606', 5),\n",
       " ('tt0453418', 3)]"
      ]
     },
     "execution_count": 7,
     "metadata": {},
     "output_type": "execute_result"
    }
   ],
   "source": [
    "#Test run\n",
    "recommended = ['tt0100680', 'tt0453418', 'tt0177606', 'tt0074223', 'tt0042042']\n",
    "reorder_recommended_movies(recommended)"
   ]
  },
  {
   "cell_type": "code",
   "execution_count": null,
   "metadata": {},
   "outputs": [],
   "source": []
  }
 ],
 "metadata": {
  "kernelspec": {
   "display_name": "Python 3",
   "language": "python",
   "name": "python3"
  },
  "language_info": {
   "codemirror_mode": {
    "name": "ipython",
    "version": 3
   },
   "file_extension": ".py",
   "mimetype": "text/x-python",
   "name": "python",
   "nbconvert_exporter": "python",
   "pygments_lexer": "ipython3",
   "version": "3.7.4"
  }
 },
 "nbformat": 4,
 "nbformat_minor": 2
}
